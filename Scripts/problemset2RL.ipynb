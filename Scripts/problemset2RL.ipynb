{
  "nbformat": 4,
  "nbformat_minor": 0,
  "metadata": {
    "colab": {
      "provenance": []
    },
    "kernelspec": {
      "name": "python3",
      "display_name": "Python 3"
    },
    "language_info": {
      "name": "python"
    }
  },
  "cells": [
    {
      "cell_type": "code",
      "source": [
        "from sklearn.linear_model import LinearRegression\n",
        "from sklearn.impute import SimpleImputer\n",
        "import pandas as pd\n",
        "\n",
        "# Cargar los datos de entrenamiento y prueba\n",
        "test_data = pd.read_csv('/content/test_hogares_final.csv')\n",
        "train_data = pd.read_csv('/content/train_hogares_final.csv')\n",
        "\n",
        "# Seleccionar las variables predictoras y la variable objetivo\n",
        "X_train = train_data[['Clase', 'Dominio', 'P5000', 'P5010', 'P5090', 'P5100',\n",
        "                         'P5130', 'P5140', 'Nper', 'Npersug', 'Li', 'Lp', 'Fex_c',\n",
        "                         'Depto', 'Fex_dpto', 'Vivienda_Propia_Pagada', 'Vivienda_Pagando',\n",
        "                         'Vivienda_Arriendo', 'Vivienda_Usufructo', 'Vivienda_Posesion_Sin_Titulo',\n",
        "                         'Vivienda_Otra', 'Indicador_Arriendo', 'Indicador_Hacinamiento_Critico',\n",
        "                         'Num_Personas_Trabajando', 'Proporción_Ocupados', 'Promedio_Edad_Ocupados',\n",
        "                         'Num_Personas_Estudiando', 'Proporción_Estudiando', 'Num_Dependientes',\n",
        "                         'Proporción_Dependientes', 'Num_Mujeres', 'Proporción_Mujeres',\n",
        "                         'Nivel_Educativo_Maximo', 'Max_Ninguno', 'Max_Preescolar',\n",
        "                         'Max_Basica_Primaria', 'Max_Basica_Secundaria', 'Max_Media', 'Max_Superior',\n",
        "                         'Num_Personas_Media_Superior', 'Indicador_Hogar_Jefe_Femenino']]\n",
        "\n",
        "y_train = train_data['Pobre']  # La variable objetivo\n",
        "\n",
        "X_test = test_data[['Clase', 'Dominio', 'P5000', 'P5010', 'P5090', 'P5100',\n",
        "                       'P5130', 'P5140', 'Nper', 'Npersug', 'Li', 'Lp', 'Fex_c',\n",
        "                       'Depto', 'Fex_dpto', 'Vivienda_Propia_Pagada', 'Vivienda_Pagando',\n",
        "                       'Vivienda_Arriendo', 'Vivienda_Usufructo', 'Vivienda_Posesion_Sin_Titulo',\n",
        "                       'Vivienda_Otra', 'Indicador_Arriendo', 'Indicador_Hacinamiento_Critico',\n",
        "                       'Num_Personas_Trabajando', 'Proporción_Ocupados', 'Promedio_Edad_Ocupados',\n",
        "                       'Num_Personas_Estudiando', 'Proporción_Estudiando', 'Num_Dependientes',\n",
        "                       'Proporción_Dependientes', 'Num_Mujeres', 'Proporción_Mujeres',\n",
        "                       'Nivel_Educativo_Maximo', 'Max_Ninguno', 'Max_Preescolar',\n",
        "                       'Max_Basica_Primaria', 'Max_Basica_Secundaria', 'Max_Media', 'Max_Superior',\n",
        "                       'Num_Personas_Media_Superior', 'Indicador_Hogar_Jefe_Femenino']]\n",
        "\n",
        "# Excluir las columnas con muchos valores faltantes\n",
        "columns_to_exclude = ['P5100', 'P5140', 'P5130', 'Promedio_Edad_Ocupados']\n",
        "\n",
        "X_train_selected = X_train.drop(columns=columns_to_exclude)\n",
        "X_test_selected = X_test.drop(columns=columns_to_exclude)\n",
        "\n",
        "# Convertir las variables categóricas en dummies\n",
        "X_train_selected = pd.get_dummies(X_train_selected, columns=['Clase', 'Dominio', 'Depto'])\n",
        "X_test_selected = pd.get_dummies(X_test_selected, columns=['Clase', 'Dominio', 'Depto'])\n",
        "\n",
        "# Alinear las columnas entre los conjuntos de entrenamiento y prueba\n",
        "X_train_selected, X_test_selected = X_train_selected.align(X_test_selected, join='left', axis=1, fill_value=0)\n",
        "\n",
        "# Imputar valores faltantes\n",
        "imputer = SimpleImputer(strategy='mean')\n",
        "X_train_selected = imputer.fit_transform(X_train_selected)\n",
        "X_test_selected = imputer.transform(X_test_selected)\n",
        "\n",
        "# Crear el modelo de regresión lineal\n",
        "model = LinearRegression()\n",
        "\n",
        "# Entrenar el modelo con los datos de entrenamiento\n",
        "model.fit(X_train_selected, y_train)\n",
        "\n",
        "# Verificar los coeficientes del modelo entrenado\n",
        "print(\"Coeficientes del modelo:\", model.coef_)\n",
        "print(\"Intercepto del modelo:\", model.intercept_)\n"
      ],
      "metadata": {
        "colab": {
          "base_uri": "https://localhost:8080/"
        },
        "id": "QxGzmhWxSEX7",
        "outputId": "cd52931d-2abf-4d06-cdf6-a2e2bccefd2d"
      },
      "execution_count": null,
      "outputs": [
        {
          "output_type": "stream",
          "name": "stdout",
          "text": [
            "Valores faltantes en X_train_selected: 0\n",
            "Valores faltantes en X_test_selected: 0\n",
            "Coeficientes del modelo: [-3.28074810e-02 -1.53984387e-02  3.54321862e-02  9.47881295e-02\n",
            "  1.74251047e-02 -4.63723180e-06  2.09465937e-06 -3.53196359e-05\n",
            "  8.13189714e-05 -3.89055364e-03  1.47689162e-02  1.23029633e-02\n",
            " -8.63647369e-02  6.07655013e-02  2.41790972e-03  1.23029633e-02\n",
            "  9.30479787e-02 -1.27940880e-01 -1.62441296e-02 -1.15784783e-03\n",
            "  4.47335853e-02 -9.70076983e-03  1.82813551e-04  1.06993435e-02\n",
            " -2.39825902e-02 -1.12516414e-02  1.69442299e-03  1.34892202e-01\n",
            " -4.91490943e-02 -3.72107343e-02 -3.81657849e-02 -1.04312592e-01\n",
            " -4.67932922e-02  3.00520685e-02 -4.47982019e-02  4.47982019e-02\n",
            "  8.84881553e-02  2.87083865e-02 -2.65283540e-02  2.08874807e-02\n",
            "  5.50895136e-02 -3.26934159e-02 -5.00932079e-02  7.82284566e-02\n",
            " -5.12085025e-02 -4.12845379e-02  1.93320364e-03 -6.83965494e-02\n",
            " -1.57890914e-02 -6.04676565e-02  7.60499930e-03 -8.32932084e-02\n",
            " -7.69521205e-02  7.64322840e-02  5.21941319e-02  4.47982019e-02\n",
            " -1.02429702e-03  3.82708022e-02  4.21704547e-02  4.60269712e-04\n",
            " -2.75353988e-02 -5.80794765e-02 -5.85858674e-02 -2.65283540e-02\n",
            "  1.14611487e-02 -3.72439009e-02 -4.31098947e-02  1.83719702e-02\n",
            "  1.71138652e-01  4.44807292e-02  5.10357740e-02 -1.32314718e-01\n",
            "  2.23816923e-01  3.35970648e-02  2.20259906e-02 -5.17791984e-03\n",
            " -2.93198463e-02  1.10275752e-01  4.29918812e-02 -9.85652345e-02\n",
            " -7.15144089e-02 -6.86492191e-02 -2.71960634e-02  6.38757370e-03\n",
            " -7.92985552e-02]\n",
            "Intercepto del modelo: 0.25281735628067115\n"
          ]
        }
      ]
    },
    {
      "cell_type": "code",
      "source": [
        "# Hacer predicciones con el conjunto de entrenamiento\n",
        "y_pred = model.predict(X_train_selected)\n",
        "\n",
        "# Evaluar el modelo\n",
        "r2 = r2_score(y_train, y_pred)\n",
        "mse = mean_squared_error(y_train, y_pred)\n",
        "\n",
        "print(\"R-cuadrado:\", r2)\n",
        "print(\"Error cuadrático medio (MSE):\", mse)\n"
      ],
      "metadata": {
        "colab": {
          "base_uri": "https://localhost:8080/"
        },
        "id": "gNMaaIfCS9i8",
        "outputId": "9b5ecd65-8d95-4c8f-b3bf-ba0b7640c9be"
      },
      "execution_count": null,
      "outputs": [
        {
          "output_type": "stream",
          "name": "stdout",
          "text": [
            "R-cuadrado: 0.2979435006528377\n",
            "Error cuadrático medio (MSE): 0.11241072713321439\n"
          ]
        }
      ]
    },
    {
      "cell_type": "code",
      "source": [
        "\n",
        "# Hacer predicciones con el conjunto de prueba\n",
        "y_pred_test = model.predict(X_test_selected)\n",
        "\n",
        "# Asegurarse de que el número de predicciones coincida con el número de IDs\n",
        "print(f\"Longitud de las predicciones: {len(y_pred_test)}\")\n",
        "print(f\"Longitud de los IDs: {len(test_data['id'])}\")\n",
        "\n",
        "# Crear un DataFrame con las predicciones y los IDs\n",
        "predicciones = pd.DataFrame({\n",
        "    'id': test_data['id'],\n",
        "    'Pobre_Pred': y_pred_test\n",
        "})\n"
      ],
      "metadata": {
        "colab": {
          "base_uri": "https://localhost:8080/"
        },
        "id": "d5yfJm80T4dL",
        "outputId": "b6261033-e86d-4429-b213-9c1b74f55f51"
      },
      "execution_count": null,
      "outputs": [
        {
          "output_type": "stream",
          "name": "stdout",
          "text": [
            "Longitud de las predicciones: 66168\n",
            "Longitud de los IDs: 66168\n"
          ]
        }
      ]
    },
    {
      "cell_type": "code",
      "source": [
        "# Convertir las predicciones continuas a binarias (umbral 0.5)\n",
        "y_pred_test_binario = [1 if pred >= 0.5 else 0 for pred in y_pred_test]\n",
        "\n",
        "# Crear el DataFrame con los IDs y las predicciones binarias\n",
        "predicciones = pd.DataFrame({\n",
        "    'id': test_data['id'],  # Asegúrate de que 'id' sea la columna correcta\n",
        "    'Pobre_Pred': y_pred_test_binario  # Predicciones binarias\n",
        "})\n",
        "\n",
        "# Guardar el DataFrame\n",
        "predicciones.to_csv('predicciones_kaggle_RL.csv', index=False)\n",
        "\n",
        "\n"
      ],
      "metadata": {
        "id": "CVlkLlAHUqKC",
        "outputId": "fe74e798-a46e-4be2-f41e-d9fe043e125e",
        "colab": {
          "base_uri": "https://localhost:8080/"
        }
      },
      "execution_count": null,
      "outputs": [
        {
          "output_type": "stream",
          "name": "stdout",
          "text": [
            "Archivo 'predicciones_kaggle.csv' generado con éxito.\n"
          ]
        }
      ]
    },
    {
      "cell_type": "code",
      "source": [
        "from sklearn.linear_model import LinearRegression\n",
        "from sklearn.impute import SimpleImputer\n",
        "import pandas as pd\n",
        "import matplotlib.pyplot as plt\n",
        "\n",
        "# Cargar los datos de entrenamiento y prueba\n",
        "test_data = pd.read_csv('/content/test_hogares_final.csv')\n",
        "train_data = pd.read_csv('/content/train_hogares_final.csv')\n",
        "\n",
        "# Seleccionar las variables predictoras y la variable objetivo\n",
        "X_train = train_data[['Clase', 'Dominio', 'P5000', 'P5010', 'P5090', 'P5100',\n",
        "                         'P5130', 'P5140', 'Nper', 'Npersug', 'Li', 'Lp', 'Fex_c',\n",
        "                         'Depto', 'Fex_dpto', 'Vivienda_Propia_Pagada', 'Vivienda_Pagando',\n",
        "                         'Vivienda_Arriendo', 'Vivienda_Usufructo', 'Vivienda_Posesion_Sin_Titulo',\n",
        "                         'Vivienda_Otra', 'Indicador_Arriendo', 'Indicador_Hacinamiento_Critico',\n",
        "                         'Num_Personas_Trabajando', 'Proporción_Ocupados', 'Promedio_Edad_Ocupados',\n",
        "                         'Num_Personas_Estudiando', 'Proporción_Estudiando', 'Num_Dependientes',\n",
        "                         'Proporción_Dependientes', 'Num_Mujeres', 'Proporción_Mujeres',\n",
        "                         'Nivel_Educativo_Maximo', 'Max_Ninguno', 'Max_Preescolar',\n",
        "                         'Max_Basica_Primaria', 'Max_Basica_Secundaria', 'Max_Media', 'Max_Superior',\n",
        "                         'Num_Personas_Media_Superior', 'Indicador_Hogar_Jefe_Femenino']]\n",
        "\n",
        "y_train = train_data['Pobre']  # La variable objetivo\n",
        "\n",
        "X_test = test_data[['Clase', 'Dominio', 'P5000', 'P5010', 'P5090', 'P5100',\n",
        "                       'P5130', 'P5140', 'Nper', 'Npersug', 'Li', 'Lp', 'Fex_c',\n",
        "                       'Depto', 'Fex_dpto', 'Vivienda_Propia_Pagada', 'Vivienda_Pagando',\n",
        "                       'Vivienda_Arriendo', 'Vivienda_Usufructo', 'Vivienda_Posesion_Sin_Titulo',\n",
        "                       'Vivienda_Otra', 'Indicador_Arriendo', 'Indicador_Hacinamiento_Critico',\n",
        "                       'Num_Personas_Trabajando', 'Proporción_Ocupados', 'Promedio_Edad_Ocupados',\n",
        "                       'Num_Personas_Estudiando', 'Proporción_Estudiando', 'Num_Dependientes',\n",
        "                       'Proporción_Dependientes', 'Num_Mujeres', 'Proporción_Mujeres',\n",
        "                       'Nivel_Educativo_Maximo', 'Max_Ninguno', 'Max_Preescolar',\n",
        "                       'Max_Basica_Primaria', 'Max_Basica_Secundaria', 'Max_Media', 'Max_Superior',\n",
        "                       'Num_Personas_Media_Superior', 'Indicador_Hogar_Jefe_Femenino']]\n",
        "\n",
        "# Excluir las columnas con muchos valores faltantes\n",
        "columns_to_exclude = ['P5100', 'P5140', 'P5130', 'Promedio_Edad_Ocupados']\n",
        "\n",
        "# Crear nuevas versiones de los conjuntos de datos excluyendo estas columnas\n",
        "X_train_selected = X_train.drop(columns=columns_to_exclude)\n",
        "X_test_selected = X_test.drop(columns=columns_to_exclude)\n",
        "\n",
        "# Convertir las variables categóricas en dummies (variables binarias)\n",
        "X_train_selected = pd.get_dummies(X_train_selected, columns=['Clase', 'Dominio', 'Depto'])\n",
        "X_test_selected = pd.get_dummies(X_test_selected, columns=['Clase', 'Dominio', 'Depto'])\n",
        "\n",
        "# Alinear las columnas entre los conjuntos de entrenamiento y prueba\n",
        "X_train_selected, X_test_selected = X_train_selected.align(X_test_selected, join='left', axis=1, fill_value=0)\n",
        "\n",
        "# Verificar si hay valores faltantes\n",
        "print(\"Valores faltantes en X_train_selected:\", X_train_selected.isnull().sum().sum())\n",
        "print(\"Valores faltantes en X_test_selected:\", X_test_selected.isnull().sum().sum())\n",
        "\n",
        "# Imputar valores\n",
        "imputer = SimpleImputer(strategy='mean')\n",
        "X_train_selected = imputer.fit_transform(X_train_selected)\n",
        "X_test_selected = imputer.transform(X_test_selected)\n",
        "\n",
        "# Crear el modelo de regresión lineal\n",
        "model = LinearRegression()\n",
        "\n",
        "# Entrenar el modelo con los datos de entrenamiento\n",
        "model.fit(X_train_selected, y_train)\n",
        "\n",
        "# Verificar los coeficientes del modelo entrenado\n",
        "print(\"Coeficientes del modelo:\", model.coef_)\n",
        "print(\"Intercepto del modelo:\", model.intercept_)\n",
        "\n",
        "# Crear una tabla de importancia de características basada en los coeficientes\n",
        "importancia_caracteristicas = pd.DataFrame({\n",
        "    'Característica': pd.get_dummies(X_train.drop(columns=columns_to_exclude), columns=['Clase', 'Dominio', 'Depto']).columns,\n",
        "    'Coeficiente': model.coef_\n",
        "})\n",
        "\n",
        "# Ordenar las características por su importancia (valor absoluto del coeficiente)\n",
        "importancia_caracteristicas['Coeficiente_Abs'] = importancia_caracteristicas['Coeficiente'].abs()\n",
        "importancia_caracteristicas = importancia_caracteristicas.sort_values(by='Coeficiente_Abs', ascending=False)\n",
        "\n",
        "# Mostrar la tabla de las 10 características más importantes\n",
        "print(importancia_caracteristicas[['Característica', 'Coeficiente']].head(10))\n",
        "\n",
        "# Graficar la importancia de las características\n",
        "plt.figure(figsize=(10, 6))\n",
        "plt.barh(importancia_caracteristicas['Característica'].head(10), importancia_caracteristicas['Coeficiente'].head(10))\n",
        "plt.xlabel(\"Coeficiente\")\n",
        "plt.title(\"Importancia de las 10 características principales\")\n",
        "plt.gca().invert_yaxis()\n",
        "plt.show()\n"
      ],
      "metadata": {
        "colab": {
          "base_uri": "https://localhost:8080/",
          "height": 1000
        },
        "id": "ydXbQsDbWz4o",
        "outputId": "5f69e5cd-4359-4a3d-d0a6-9eca107e1034"
      },
      "execution_count": 1,
      "outputs": [
        {
          "output_type": "stream",
          "name": "stdout",
          "text": [
            "Valores faltantes en X_train_selected: 0\n",
            "Valores faltantes en X_test_selected: 0\n",
            "Coeficientes del modelo: [-3.28074810e-02 -1.53984387e-02  3.54321862e-02  9.47881295e-02\n",
            "  1.74251047e-02 -4.63723180e-06  2.09465937e-06 -3.53196359e-05\n",
            "  8.13189714e-05 -3.89055364e-03  1.47689162e-02  1.23029633e-02\n",
            " -8.63647369e-02  6.07655013e-02  2.41790972e-03  1.23029633e-02\n",
            "  9.30479787e-02 -1.27940880e-01 -1.62441296e-02 -1.15784783e-03\n",
            "  4.47335853e-02 -9.70076983e-03  1.82813551e-04  1.06993435e-02\n",
            " -2.39825902e-02 -1.12516414e-02  1.69442299e-03  1.34892202e-01\n",
            " -4.91490943e-02 -3.72107343e-02 -3.81657849e-02 -1.04312592e-01\n",
            " -4.67932922e-02  3.00520685e-02 -4.47982019e-02  4.47982019e-02\n",
            "  8.84881553e-02  2.87083865e-02 -2.65283540e-02  2.08874807e-02\n",
            "  5.50895136e-02 -3.26934159e-02 -5.00932079e-02  7.82284566e-02\n",
            " -5.12085025e-02 -4.12845379e-02  1.93320364e-03 -6.83965494e-02\n",
            " -1.57890914e-02 -6.04676565e-02  7.60499930e-03 -8.32932084e-02\n",
            " -7.69521205e-02  7.64322840e-02  5.21941319e-02  4.47982019e-02\n",
            " -1.02429702e-03  3.82708022e-02  4.21704547e-02  4.60269712e-04\n",
            " -2.75353988e-02 -5.80794765e-02 -5.85858674e-02 -2.65283540e-02\n",
            "  1.14611487e-02 -3.72439009e-02 -4.31098947e-02  1.83719702e-02\n",
            "  1.71138652e-01  4.44807292e-02  5.10357740e-02 -1.32314718e-01\n",
            "  2.23816923e-01  3.35970648e-02  2.20259906e-02 -5.17791984e-03\n",
            " -2.93198463e-02  1.10275752e-01  4.29918812e-02 -9.85652345e-02\n",
            " -7.15144089e-02 -6.86492191e-02 -2.71960634e-02  6.38757370e-03\n",
            " -7.92985552e-02]\n",
            "Intercepto del modelo: 0.25281735628067115\n",
            "                    Característica  Coeficiente\n",
            "72                        Depto_27     0.223817\n",
            "68                        Depto_19     0.171139\n",
            "27                  Max_Preescolar     0.134892\n",
            "71                        Depto_25    -0.132315\n",
            "17         Num_Personas_Trabajando    -0.127941\n",
            "77                        Depto_52     0.110276\n",
            "31                    Max_Superior    -0.104313\n",
            "79                        Depto_63    -0.098565\n",
            "3                             Nper     0.094788\n",
            "16  Indicador_Hacinamiento_Critico     0.093048\n"
          ]
        },
        {
          "output_type": "display_data",
          "data": {
            "text/plain": [
              "<Figure size 1000x600 with 1 Axes>"
            ],
            "image/png": "[encoded data removed]"
          },
          "metadata": {}
        }
      ]
    }
  ]
}