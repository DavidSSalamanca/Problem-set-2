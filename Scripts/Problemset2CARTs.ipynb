{
  "nbformat": 4,
  "nbformat_minor": 0,
  "metadata": {
    "colab": {
      "provenance": []
    },
    "kernelspec": {
      "name": "python3",
      "display_name": "Python 3"
    },
    "language_info": {
      "name": "python"
    }
  },
  "cells": [
    {
      "cell_type": "code",
      "execution_count": 2,
      "metadata": {
        "colab": {
          "base_uri": "https://localhost:8080/"
        },
        "id": "t2tODw_y3YUk",
        "outputId": "cf75f5f6-740c-44a9-abc0-4311397b8ea8"
      },
      "outputs": [
        {
          "output_type": "stream",
          "name": "stdout",
          "text": [
            "Archivo 'predicciones_kaggle_CART.csv' generado con éxito.\n"
          ]
        }
      ],
      "source": [
        "from sklearn.tree import DecisionTreeClassifier\n",
        "from sklearn.impute import SimpleImputer\n",
        "import pandas as pd\n",
        "\n",
        "# Cargar los datos de entrenamiento y prueba\n",
        "test_data = pd.read_csv('/content/test_hogares_final.csv')\n",
        "train_data = pd.read_csv('/content/train_hogares_final.csv')\n",
        "\n",
        "# Seleccionar las variables predictoras y la variable objetivo\n",
        "X_train = train_data[['Clase', 'Dominio', 'P5000', 'P5010', 'P5090', 'P5100',\n",
        "                         'P5130', 'P5140', 'Nper', 'Npersug', 'Li', 'Lp', 'Fex_c',\n",
        "                         'Depto', 'Fex_dpto', 'Vivienda_Propia_Pagada', 'Vivienda_Pagando',\n",
        "                         'Vivienda_Arriendo', 'Vivienda_Usufructo', 'Vivienda_Posesion_Sin_Titulo',\n",
        "                         'Vivienda_Otra', 'Indicador_Arriendo', 'Indicador_Hacinamiento_Critico',\n",
        "                         'Num_Personas_Trabajando', 'Proporción_Ocupados', 'Promedio_Edad_Ocupados',\n",
        "                         'Num_Personas_Estudiando', 'Proporción_Estudiando', 'Num_Dependientes',\n",
        "                         'Proporción_Dependientes', 'Num_Mujeres', 'Proporción_Mujeres',\n",
        "                         'Nivel_Educativo_Maximo', 'Max_Ninguno', 'Max_Preescolar',\n",
        "                         'Max_Basica_Primaria', 'Max_Basica_Secundaria', 'Max_Media', 'Max_Superior',\n",
        "                         'Num_Personas_Media_Superior', 'Indicador_Hogar_Jefe_Femenino']]\n",
        "\n",
        "y_train = train_data['Pobre']  # La variable objetivo en el conjunto de entrenamiento\n",
        "\n",
        "X_test = test_data[['Clase', 'Dominio', 'P5000', 'P5010', 'P5090', 'P5100',\n",
        "                       'P5130', 'P5140', 'Nper', 'Npersug', 'Li', 'Lp', 'Fex_c',\n",
        "                       'Depto', 'Fex_dpto', 'Vivienda_Propia_Pagada', 'Vivienda_Pagando',\n",
        "                       'Vivienda_Arriendo', 'Vivienda_Usufructo', 'Vivienda_Posesion_Sin_Titulo',\n",
        "                       'Vivienda_Otra', 'Indicador_Arriendo', 'Indicador_Hacinamiento_Critico',\n",
        "                       'Num_Personas_Trabajando', 'Proporción_Ocupados', 'Promedio_Edad_Ocupados',\n",
        "                       'Num_Personas_Estudiando', 'Proporción_Estudiando', 'Num_Dependientes',\n",
        "                       'Proporción_Dependientes', 'Num_Mujeres', 'Proporción_Mujeres',\n",
        "                       'Nivel_Educativo_Maximo', 'Max_Ninguno', 'Max_Preescolar',\n",
        "                       'Max_Basica_Primaria', 'Max_Basica_Secundaria', 'Max_Media', 'Max_Superior',\n",
        "                       'Num_Personas_Media_Superior', 'Indicador_Hogar_Jefe_Femenino']]\n",
        "\n",
        "# Excluir las columnas con muchos valores faltantes\n",
        "columns_to_exclude = ['P5100', 'P5140', 'P5130', 'Promedio_Edad_Ocupados']\n",
        "\n",
        "# Crear nuevas versiones de los conjuntos de datos excluyendo estas columnas\n",
        "X_train_selected = X_train.drop(columns=columns_to_exclude)\n",
        "X_test_selected = X_test.drop(columns=columns_to_exclude)\n",
        "\n",
        "# Convertir las variables categóricas en dummies (variables binarias)\n",
        "X_train_selected = pd.get_dummies(X_train_selected, columns=['Clase', 'Dominio', 'Depto'])\n",
        "X_test_selected = pd.get_dummies(X_test_selected, columns=['Clase', 'Dominio', 'Depto'])\n",
        "\n",
        "# Alinear las columnas entre los conjuntos de entrenamiento y prueba\n",
        "X_train_selected, X_test_selected = X_train_selected.align(X_test_selected, join='left', axis=1, fill_value=0)\n",
        "\n",
        "# Imputar valores faltantes\n",
        "imputer = SimpleImputer(strategy='mean')\n",
        "X_train_selected = imputer.fit_transform(X_train_selected)\n",
        "X_test_selected = imputer.transform(X_test_selected)\n",
        "\n",
        "# Crear el modelo CART\n",
        "cart_model = DecisionTreeClassifier()\n",
        "\n",
        "# Entrenar el modelo con los datos de entrenamiento\n",
        "cart_model.fit(X_train_selected, y_train)\n",
        "\n",
        "# Hacer predicciones con el conjunto de prueba\n",
        "y_pred_test_cart = cart_model.predict(X_test_selected)\n",
        "\n",
        "# Crear el DataFrame\n",
        "predicciones = pd.DataFrame({\n",
        "    'id': test_data['id'],\n",
        "    'Pobre_Pred': y_pred_test_cart\n",
        "})\n",
        "\n",
        "# Guardar el DataFrame\n",
        "predicciones.to_csv('predicciones_kaggle_CART.csv', index=False)\n",
        "\n",
        "\n",
        "\n"
      ]
    },
    {
      "cell_type": "code",
      "source": [
        "from sklearn.model_selection import GridSearchCV\n",
        "from sklearn.tree import DecisionTreeClassifier\n",
        "\n",
        "# rango de hiperparámetros para probar\n",
        "param_grid = {\n",
        "    'max_depth': [3, 5, 10, None],\n",
        "    'min_samples_split': [2, 10, 20],\n",
        "    'min_samples_leaf': [1, 5, 10],\n",
        "    'criterion': ['gini', 'entropy']\n",
        "}\n",
        "\n",
        "# modelo CART\n",
        "cart_model = DecisionTreeClassifier()\n",
        "\n",
        "#  GridSearch para probar los hiperparámetros\n",
        "grid_search = GridSearchCV(cart_model, param_grid, cv=5, scoring='accuracy')\n",
        "\n",
        "# Entrenar el modelo con la búsqueda de los mejores hiperparámetros\n",
        "grid_search.fit(X_train_selected, y_train)\n",
        "\n",
        "# Ver los mejores hiperparámetros encontrados\n",
        "print(\"Mejores hiperparámetros:\", grid_search.best_params_)\n",
        "\n",
        "# Usar el mejor modelo encontrado para hacer predicciones\n",
        "best_cart_model = grid_search.best_estimator_\n",
        "y_pred_test_cart = best_cart_model.predict(X_test_selected)\n",
        "\n",
        "# Crear el DataFrame con las predicciones y los IDs\n",
        "predicciones = pd.DataFrame({\n",
        "    'id': test_data['id'],\n",
        "    'Pobre_Pred': y_pred_test_cart\n",
        "})\n",
        "\n",
        "# Guardar el DataFrame como un archivo CSV para subir a Kaggle\n",
        "predicciones.to_csv('predicciones_kaggle_CART_mejorado.csv', index=False)\n",
        "\n",
        "print(\"Archivo 'predicciones_kaggle_CART_mejorado.csv' generado con éxito.\")\n"
      ],
      "metadata": {
        "colab": {
          "base_uri": "https://localhost:8080/"
        },
        "id": "hhjCTXyr6NJa",
        "outputId": "1fe2ce49-b1f4-4199-91cf-dfcadbd6fa00"
      },
      "execution_count": 3,
      "outputs": [
        {
          "output_type": "stream",
          "name": "stdout",
          "text": [
            "Mejores hiperparámetros: {'criterion': 'gini', 'max_depth': 10, 'min_samples_leaf': 10, 'min_samples_split': 2}\n",
            "Archivo 'predicciones_kaggle_CART_mejorado.csv' generado con éxito.\n"
          ]
        }
      ]
    },
    {
      "source": [
        "from sklearn.metrics import classification_report, accuracy_score\n",
        "\n",
        "y_train_pred_cart = best_cart_model.predict(X_train_selected)\n",
        "\n",
        "# Evaluar el rendimiento del modelo en el conjunto de entrenamiento\n",
        "print(\"Reporte de clasificación en el conjunto de entrenamiento:\")\n",
        "print(classification_report(y_train, y_train_pred_cart))\n",
        "\n",
        "# Calcular y mostrar la exactitud (accuracy) en el conjunto de entrenamiento\n",
        "accuracy_train_cart = accuracy_score(y_train, y_train_pred_cart)\n",
        "print(f\"Exactitud en el conjunto de entrenamiento: {accuracy_train_cart}\")\n",
        "\n",
        "# Calcular las métricas detalladas (precisión, recall, f1-score) y generar el reporte\n",
        "reporte_clasificacion_cart = classification_report(y_train, y_train_pred_cart, output_dict=True)\n",
        "\n",
        "# Crear un DataFrame para mostrar las métricas en forma tabular\n",
        "df_reporte_clasificacion_cart = pd.DataFrame(reporte_clasificacion_cart).transpose()\n"
      ],
      "cell_type": "code",
      "metadata": {
        "colab": {
          "base_uri": "https://localhost:8080/"
        },
        "id": "0nkbqmaAfhy8",
        "outputId": "4906f62d-067e-4abe-b5ab-fa0594c41992"
      },
      "execution_count": 8,
      "outputs": [
        {
          "output_type": "stream",
          "name": "stdout",
          "text": [
            "Reporte de clasificación en el conjunto de entrenamiento:\n",
            "              precision    recall  f1-score   support\n",
            "\n",
            "           0       0.88      0.95      0.91    131936\n",
            "           1       0.71      0.46      0.56     33024\n",
            "\n",
            "    accuracy                           0.85    164960\n",
            "   macro avg       0.79      0.71      0.74    164960\n",
            "weighted avg       0.84      0.85      0.84    164960\n",
            "\n",
            "Exactitud en el conjunto de entrenamiento: 0.8542555771096023\n"
          ]
        }
      ]
    }
  ]
}