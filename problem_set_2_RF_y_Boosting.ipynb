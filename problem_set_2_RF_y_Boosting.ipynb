{
  "nbformat": 4,
  "nbformat_minor": 0,
  "metadata": {
    "colab": {
      "provenance": [],
      "gpuType": "L4",
      "authorship_tag": "ABX9TyN5BlGHHkKKh/10lM2cmWmo",
      "include_colab_link": true
    },
    "kernelspec": {
      "name": "python3",
      "display_name": "Python 3"
    },
    "language_info": {
      "name": "python"
    },
    "accelerator": "GPU"
  },
  "cells": [
    {
      "cell_type": "markdown",
      "metadata": {
        "id": "view-in-github",
        "colab_type": "text"
      },
      "source": [
        "<a href=\"https://colab.research.google.com/github/DavidSSalamanca/Problem-set-2/blob/main/problem_set_2_RF_y_Boosting.ipynb\" target=\"_parent\"><img src=\"https://colab.research.google.com/assets/colab-badge.svg\" alt=\"Open In Colab\"/></a>"
      ]
    },
    {
      "cell_type": "code",
      "source": [
        "# Instalar XGBoost si no está instalado\n",
        "!pip install xgboost\n"
      ],
      "metadata": {
        "colab": {
          "base_uri": "https://localhost:8080/"
        },
        "id": "URFLVlX1ArdP",
        "outputId": "5be2a0dc-5d2b-45e6-98a8-b7f87816af81"
      },
      "execution_count": null,
      "outputs": [
        {
          "output_type": "stream",
          "name": "stdout",
          "text": [
            "Requirement already satisfied: xgboost in /usr/local/lib/python3.10/dist-packages (2.1.1)\n",
            "Requirement already satisfied: numpy in /usr/local/lib/python3.10/dist-packages (from xgboost) (1.26.4)\n",
            "Requirement already satisfied: nvidia-nccl-cu12 in /usr/local/lib/python3.10/dist-packages (from xgboost) (2.23.4)\n",
            "Requirement already satisfied: scipy in /usr/local/lib/python3.10/dist-packages (from xgboost) (1.13.1)\n"
          ]
        }
      ]
    },
    {
      "cell_type": "code",
      "source": [
        "import pandas as pd\n",
        "from sklearn.model_selection import train_test_split, GridSearchCV\n",
        "from sklearn.ensemble import RandomForestClassifier\n",
        "from sklearn.metrics import f1_score, classification_report"
      ],
      "metadata": {
        "id": "uOGTOy1nFjJp"
      },
      "execution_count": null,
      "outputs": []
    },
    {
      "cell_type": "code",
      "execution_count": null,
      "metadata": {
        "colab": {
          "base_uri": "https://localhost:8080/"
        },
        "id": "KR5Ajamx-u33",
        "outputId": "52b1d619-dfa4-404b-cb81-2b6a1e3847e7"
      },
      "outputs": [
        {
          "output_type": "stream",
          "name": "stdout",
          "text": [
            "[ True  True  True  True  True  True  True  True  True  True  True  True\n",
            "  True  True  True  True  True  True  True  True  True  True  True  True\n",
            "  True  True  True  True  True  True  True  True  True  True  True  True\n",
            "  True  True  True  True]\n"
          ]
        }
      ],
      "source": [
        "import xgboost as xgb\n",
        "import pandas as pd\n",
        "from sklearn.model_selection import train_test_split, GridSearchCV\n",
        "from sklearn.metrics import f1_score, classification_report\n",
        "# Cargar los datos de entrenamiento y prueba\n",
        "train_hogares = pd.read_csv('train_hogares_final.csv')\n",
        "test_hogares = pd.read_csv('test_hogares_final.csv')\n",
        "\n",
        "# Definir las características (X) y la variable objetivo (y) del conjunto de entrenamiento\n",
        "X_train = train_hogares.drop(columns=['id', 'Pobre','Dominio'])  # eliminar variables que no se van a usar\n",
        "y_train = train_hogares['Pobre']  #\n",
        "\n",
        "# Definir las características del conjunto de prueba, eliminando 'id'\n",
        "X_test = test_hogares.drop(columns=['id','Dominio'])\n",
        "# Identificar las columnas que están en X_train pero no en X_test\n",
        "columnas_sobrantes= set(X_train.columns) - set(X_test.columns)\n",
        "\n",
        "# Eliminar esas columnas de X_train\n",
        "X_train_reducido = X_train.drop(columns=columnas_sobrantes)\n",
        "\n",
        "# Alinear el conjunto de prueba con las columnas de X_train\n",
        "X_test = X_test[X_train_reducido.columns]\n",
        "\n",
        "# Verificar que los conjuntos tengan las mismas columnas\n",
        "print(X_train_reducido.columns == X_test.columns)\n",
        "\n",
        "\n"
      ]
    },
    {
      "cell_type": "code",
      "source": [
        "seed=202013547"
      ],
      "metadata": {
        "id": "IQjyUFd-KIfQ"
      },
      "execution_count": null,
      "outputs": []
    },
    {
      "cell_type": "code",
      "source": [
        "\n",
        "# Definir el clasificador XGBoost\n",
        "xgb_model = xgb.XGBClassifier(use_label_encoder=False, eval_metric='logloss', tree_method='gpu_hist', random_state=seed, n_jobs=-1)\n",
        "\n",
        "# Definir los hiperparámetros a probar\n",
        "param_grid = {\n",
        "    'n_estimators': [100, 200],\n",
        "    'learning_rate': [0.01, 0.1],\n",
        "    'max_depth': [3, 5, 7],\n",
        "    'min_child_weight': [1, 3, 5],\n",
        "    'gamma': [0, 0.1, 0.3],\n",
        "    'subsample': [0.8, 1.0]\n",
        "}\n",
        "\n",
        "# Configurar GridSearchCV para encontrar los mejores parámetros maximizando F1 score\n",
        "grid_search = GridSearchCV(estimator=xgb_model, param_grid=param_grid, cv=5, scoring='f1', verbose=2, n_jobs=-1)\n",
        "\n",
        "# Entrenar el modelo con los datos de entrenamiento\n",
        "grid_search.fit(X_train_reducido, y_train)\n",
        "\n",
        "# Imprimir los mejores parámetros encontrados\n",
        "print(\"Mejores parámetros encontrados: \", grid_search.best_params_)\n"
      ],
      "metadata": {
        "colab": {
          "base_uri": "https://localhost:8080/"
        },
        "id": "T1Z_UTDiBgM8",
        "outputId": "c8b1bf2e-5396-4fbd-f3d4-e3953c24d570"
      },
      "execution_count": null,
      "outputs": [
        {
          "metadata": {
            "tags": null
          },
          "name": "stdout",
          "output_type": "stream",
          "text": [
            "Fitting 5 folds for each of 216 candidates, totalling 1080 fits\n"
          ]
        },
        {
          "output_type": "stream",
          "name": "stderr",
          "text": [
            "/usr/local/lib/python3.10/dist-packages/joblib/externals/loky/process_executor.py:752: UserWarning: A worker stopped while some jobs were given to the executor. This can be caused by a too short worker timeout or by a memory leak.\n",
            "  warnings.warn(\n",
            "/usr/local/lib/python3.10/dist-packages/xgboost/core.py:158: UserWarning: [22:47:26] WARNING: /workspace/src/common/error_msg.cc:27: The tree method `gpu_hist` is deprecated since 2.0.0. To use GPU training, set the `device` parameter to CUDA instead.\n",
            "\n",
            "    E.g. tree_method = \"hist\", device = \"cuda\"\n",
            "\n",
            "  warnings.warn(smsg, UserWarning)\n",
            "/usr/local/lib/python3.10/dist-packages/xgboost/core.py:158: UserWarning: [22:47:26] WARNING: /workspace/src/learner.cc:740: \n",
            "Parameters: { \"use_label_encoder\" } are not used.\n",
            "\n",
            "  warnings.warn(smsg, UserWarning)\n"
          ]
        },
        {
          "output_type": "stream",
          "name": "stdout",
          "text": [
            "Mejores parámetros encontrados:  {'gamma': 0.1, 'learning_rate': 0.1, 'max_depth': 7, 'min_child_weight': 3, 'n_estimators': 200, 'subsample': 0.8}\n"
          ]
        }
      ]
    },
    {
      "cell_type": "code",
      "source": [
        "# Predecir en el conjunto de entrenamiento para ver el desempeño\n",
        "y_train_pred = grid_search.predict(X_train_reducido)\n",
        "\n",
        "# Evaluar el F1 score y otras métricas\n",
        "print(\"Reporte de clasificación en el conjunto de entrenamiento:\")\n",
        "print(classification_report(y_train, y_train_pred))\n"
      ],
      "metadata": {
        "colab": {
          "base_uri": "https://localhost:8080/"
        },
        "id": "p0j2E_WSEQRQ",
        "outputId": "ba7229a5-adeb-472b-9be1-fe573f077d8e"
      },
      "execution_count": null,
      "outputs": [
        {
          "output_type": "stream",
          "name": "stderr",
          "text": [
            "/usr/local/lib/python3.10/dist-packages/xgboost/core.py:158: UserWarning: [22:48:47] WARNING: /workspace/src/common/error_msg.cc:27: The tree method `gpu_hist` is deprecated since 2.0.0. To use GPU training, set the `device` parameter to CUDA instead.\n",
            "\n",
            "    E.g. tree_method = \"hist\", device = \"cuda\"\n",
            "\n",
            "  warnings.warn(smsg, UserWarning)\n",
            "/usr/local/lib/python3.10/dist-packages/xgboost/core.py:158: UserWarning: [22:48:47] WARNING: /workspace/src/common/error_msg.cc:58: Falling back to prediction using DMatrix due to mismatched devices. This might lead to higher memory usage and slower performance. XGBoost is running on: cuda:0, while the input data is on: cpu.\n",
            "Potential solutions:\n",
            "- Use a data structure that matches the device ordinal in the booster.\n",
            "- Set the device for booster before call to inplace_predict.\n",
            "\n",
            "This warning will only be shown once.\n",
            "\n",
            "  warnings.warn(smsg, UserWarning)\n"
          ]
        },
        {
          "output_type": "stream",
          "name": "stdout",
          "text": [
            "Reporte de clasificación en el conjunto de entrenamiento:\n",
            "              precision    recall  f1-score   support\n",
            "\n",
            "           0       0.91      0.95      0.93    131936\n",
            "           1       0.77      0.61      0.68     33024\n",
            "\n",
            "    accuracy                           0.89    164960\n",
            "   macro avg       0.84      0.78      0.81    164960\n",
            "weighted avg       0.88      0.89      0.88    164960\n",
            "\n"
          ]
        }
      ]
    },
    {
      "cell_type": "code",
      "source": [
        "# Predecir sobre el conjunto de prueba con el modelo optimizado\n",
        "y_test_pred = grid_search.predict(X_test)\n",
        "\n",
        "# Crear el DataFrame para el submission en Kaggle\n",
        "submission = pd.DataFrame({\n",
        "    'id': test_hogares['id'],  # Mantener la columna 'id'\n",
        "    'pobre': y_test_pred       # Predicciones del modelo\n",
        "})\n",
        "\n",
        "# Guardar el archivo en formato CSV para el submission en Kaggle\n",
        "submission.to_csv('XGB_gamma_0,1_lr_0,1_arboles_200.csv', index=False)\n"
      ],
      "metadata": {
        "id": "1_4Jcmn7Ei83"
      },
      "execution_count": null,
      "outputs": []
    },
    {
      "cell_type": "code",
      "source": [
        "\n",
        "# Definir el clasificador Random Forest\n",
        "rf = RandomForestClassifier(random_state=seed)\n",
        "\n",
        "# Definir los hiperparámetros a probar en la búsqueda\n",
        "param_grid = {\n",
        "    'n_estimators': [100,200,250],\n",
        "    'max_depth': [15,30, None],\n",
        "    'min_samples_split': [7, 10,15],\n",
        "    'min_samples_leaf': [ 7, 15,15]\n",
        "}\n",
        "\n",
        "# Configurar GridSearchCV para encontrar los mejores parámetros maximizando F1 score\n",
        "grid_search = GridSearchCV(estimator=rf, param_grid=param_grid, cv=5, scoring='f1', verbose=2, n_jobs=-1)\n",
        "\n",
        "# Entrenar el modelo con los datos de entrenamiento alineados\n",
        "grid_search.fit(X_train_reducido, y_train)\n",
        "\n",
        "# Imprimir los mejores parámetros\n",
        "print(\"Mejores parámetros encontrados: \", grid_search.best_params_)\n"
      ],
      "metadata": {
        "colab": {
          "base_uri": "https://localhost:8080/"
        },
        "id": "eyLANfuiFD_B",
        "outputId": "d5c56ccd-5c95-483d-8774-7f5305970dc3"
      },
      "execution_count": null,
      "outputs": [
        {
          "output_type": "stream",
          "name": "stdout",
          "text": [
            "Fitting 5 folds for each of 81 candidates, totalling 405 fits\n",
            "Mejores parámetros encontrados:  {'max_depth': None, 'min_samples_leaf': 7, 'min_samples_split': 15, 'n_estimators': 200}\n"
          ]
        }
      ]
    },
    {
      "cell_type": "code",
      "source": [
        "# Predecir en el conjunto de entrenamiento para ver el desempeño\n",
        "y_train_pred = grid_search.predict(X_train_reducido)\n",
        "\n",
        "# Evaluar el F1 score y otras métricas\n",
        "print(\"Reporte de clasificación en el conjunto de entrenamiento:\")\n",
        "print(classification_report(y_train, y_train_pred))"
      ],
      "metadata": {
        "colab": {
          "base_uri": "https://localhost:8080/"
        },
        "id": "i1rn2jCqTy3-",
        "outputId": "902f915e-7bae-4c59-fb25-4ba29cb3d49b"
      },
      "execution_count": null,
      "outputs": [
        {
          "output_type": "stream",
          "name": "stdout",
          "text": [
            "Reporte de clasificación en el conjunto de entrenamiento:\n",
            "              precision    recall  f1-score   support\n",
            "\n",
            "           0       0.91      0.97      0.94    131936\n",
            "           1       0.86      0.61      0.71     33024\n",
            "\n",
            "    accuracy                           0.90    164960\n",
            "   macro avg       0.88      0.79      0.83    164960\n",
            "weighted avg       0.90      0.90      0.90    164960\n",
            "\n"
          ]
        }
      ]
    },
    {
      "cell_type": "code",
      "source": [
        "# Predecir sobre el conjunto de prueba con el modelo optimizado\n",
        "y_test_pred = grid_search.predict(X_test)\n",
        "\n",
        "# Crear el DataFrame para el submission en Kaggle\n",
        "submission = pd.DataFrame({\n",
        "    'id': test_hogares['id'],  # Mantener la columna 'id'\n",
        "    'pobre': y_test_pred       # Predicciones del modelo\n",
        "})\n"
      ],
      "metadata": {
        "id": "p-W7VEbmT_NI"
      },
      "execution_count": null,
      "outputs": []
    },
    {
      "cell_type": "code",
      "source": [
        "# Guardar el archivo en formato CSV para el submission en Kaggle\n",
        "submission.to_csv('RF_arboles_200.csv', index=False)"
      ],
      "metadata": {
        "id": "aHzX7dE0UCER"
      },
      "execution_count": null,
      "outputs": []
    }
  ]
}